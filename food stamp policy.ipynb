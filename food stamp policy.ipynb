{
 "cells": [
  {
   "cell_type": "code",
   "execution_count": 1,
   "id": "1d92b558",
   "metadata": {},
   "outputs": [],
   "source": [
    "import pandas as pd"
   ]
  },
  {
   "cell_type": "code",
   "execution_count": 76,
   "id": "b9157c6b",
   "metadata": {},
   "outputs": [],
   "source": [
    "def food_stamp_calculator(income=0, family=1, debug=False):\n",
    "    if income < 20000:\n",
    "        return 200 * family\n",
    "    \n",
    "    surplus = (income - 20000)\n",
    "    basic_benefit = 200 * family\n",
    "    while surplus > 0:\n",
    "        reduction = round(basic_benefit * .05)\n",
    "        if reduction < 15:\n",
    "            reduction = 15\n",
    "        basic_benefit -= reduction\n",
    "        if basic_benefit < 0:\n",
    "            basic_benefit = 0\n",
    "            surplus = 0\n",
    "        surplus -= 1000\n",
    "        if debug:\n",
    "            print(f\"${income - surplus}: basic benefit ${basic_benefit}, reduction ${reduction}\")\n",
    "    return basic_benefit"
   ]
  },
  {
   "cell_type": "code",
   "execution_count": 155,
   "id": "24f5b2ff",
   "metadata": {},
   "outputs": [],
   "source": [
    "def food_stamp_calculator(income=0, family=1, debug=False, inflation = 1):\n",
    "    \"\"\"family is representing the size of the family. Family is composed of \n",
    "    the head of household, spouse, and dependent children.\n",
    "    Income is obvious.\n",
    "    The basic_benefit is the monthly payment.\"\"\"\n",
    "    basic_benefit = round(200 * family * inflation)\n",
    "    surplus = (income - 20000 * inflation)\n",
    "    while surplus > 0:\n",
    "        reduction = round(basic_benefit * .05)\n",
    "        if reduction < 15 * inflation:\n",
    "            reduction = round(15 * inflation)\n",
    "        basic_benefit -= reduction\n",
    "        if basic_benefit < 0:\n",
    "            basic_benefit = 0\n",
    "            surplus = 0\n",
    "        surplus -= 1000\n",
    "        if debug:\n",
    "            print(f\"${income - surplus}: basic benefit ${basic_benefit}, reduction ${reduction}\")\n",
    "    return basic_benefit"
   ]
  },
  {
   "cell_type": "code",
   "execution_count": 153,
   "id": "9e03d668",
   "metadata": {},
   "outputs": [
    {
     "data": {
      "text/plain": [
       "84"
      ]
     },
     "execution_count": 153,
     "metadata": {},
     "output_type": "execute_result"
    }
   ],
   "source": [
    "food_stamp_calculator(income=40000, family=2)"
   ]
  },
  {
   "cell_type": "code",
   "execution_count": 154,
   "id": "6b386f57",
   "metadata": {},
   "outputs": [
    {
     "data": {
      "text/plain": [
       "280"
      ]
     },
     "execution_count": 154,
     "metadata": {},
     "output_type": "execute_result"
    }
   ],
   "source": [
    "food_stamp_calculator(income=25000, inflation=1.4)"
   ]
  },
  {
   "cell_type": "code",
   "execution_count": 158,
   "id": "041bbb2b",
   "metadata": {},
   "outputs": [
    {
     "name": "stdout",
     "output_type": "stream",
     "text": [
      "20000: $200\n",
      "21000: $185\n",
      "22000: $170\n",
      "23000: $155\n",
      "24000: $140\n",
      "25000: $125\n",
      "26000: $110\n",
      "27000: $95\n",
      "28000: $80\n",
      "29000: $65\n",
      "30000: $50\n",
      "31000: $35\n",
      "32000: $20\n",
      "33000: $5\n"
     ]
    }
   ],
   "source": [
    "for income in range(20,80):\n",
    "    result = food_stamp_calculator(income=income*1000, family=1)\n",
    "    if result > 0:\n",
    "        print(f\"{income*1000}: ${result}\")"
   ]
  },
  {
   "cell_type": "code",
   "execution_count": null,
   "id": "5094bb42",
   "metadata": {},
   "outputs": [],
   "source": []
  }
 ],
 "metadata": {
  "kernelspec": {
   "display_name": "Python 3 (ipykernel)",
   "language": "python",
   "name": "python3"
  },
  "language_info": {
   "codemirror_mode": {
    "name": "ipython",
    "version": 3
   },
   "file_extension": ".py",
   "mimetype": "text/x-python",
   "name": "python",
   "nbconvert_exporter": "python",
   "pygments_lexer": "ipython3",
   "version": "3.9.13"
  }
 },
 "nbformat": 4,
 "nbformat_minor": 5
}
